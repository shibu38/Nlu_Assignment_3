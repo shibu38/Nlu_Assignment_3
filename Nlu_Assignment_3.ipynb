{
 "cells": [
  {
   "cell_type": "code",
   "execution_count": 1,
   "metadata": {},
   "outputs": [
    {
     "name": "stderr",
     "output_type": "stream",
     "text": [
      "Using TensorFlow backend.\n"
     ]
    },
    {
     "name": "stdout",
     "output_type": "stream",
     "text": [
      "_________________________________________________________________\n",
      "Layer (type)                 Output Shape              Param #   \n",
      "=================================================================\n",
      "input_1 (InputLayer)         (None, 100)               0         \n",
      "_________________________________________________________________\n",
      "embedding_1 (Embedding)      (None, 100, 20)           226180    \n",
      "_________________________________________________________________\n",
      "bidirectional_1 (Bidirection (None, 100, 100)          28400     \n",
      "_________________________________________________________________\n",
      "time_distributed_1 (TimeDist (None, 100, 50)           5050      \n",
      "_________________________________________________________________\n",
      "crf_1 (CRF)                  (None, 100, 3)            168       \n",
      "=================================================================\n",
      "Total params: 259,798\n",
      "Trainable params: 259,798\n",
      "Non-trainable params: 0\n",
      "_________________________________________________________________\n",
      "Train on 2631 samples, validate on 293 samples\n",
      "Epoch 1/10\n",
      "2631/2631 [==============================] - 37s 14ms/step - loss: 12.6938 - acc: 0.8564 - val_loss: 10.8955 - val_acc: 0.8582\n",
      "\n",
      "Epoch 2/10\n",
      "2631/2631 [==============================] - 37s 14ms/step - loss: 12.5542 - acc: 0.8618 - val_loss: 10.8111 - val_acc: 0.8586\n",
      "\n",
      "Epoch 3/10\n",
      "2631/2631 [==============================] - 39s 15ms/step - loss: 12.4311 - acc: 0.8741 - val_loss: 10.7216 - val_acc: 0.8752\n",
      "\n",
      "Epoch 4/10\n",
      "2631/2631 [==============================] - 38s 15ms/step - loss: 12.3491 - acc: 0.9036 - val_loss: 10.6871 - val_acc: 0.8863\n",
      "\n",
      "Epoch 5/10\n",
      "2631/2631 [==============================] - 38s 15ms/step - loss: 12.2995 - acc: 0.9207 - val_loss: 10.6762 - val_acc: 0.8906\n",
      "\n",
      "Epoch 6/10\n",
      "2631/2631 [==============================] - 37s 14ms/step - loss: 12.2640 - acc: 0.9332 - val_loss: 10.6798 - val_acc: 0.8837\n",
      "\n",
      "Epoch 7/10\n",
      "2631/2631 [==============================] - 38s 14ms/step - loss: 12.2381 - acc: 0.9448 - val_loss: 10.6994 - val_acc: 0.8992\n",
      "\n",
      "Epoch 8/10\n",
      "2631/2631 [==============================] - 37s 14ms/step - loss: 12.2155 - acc: 0.9547 - val_loss: 10.7076 - val_acc: 0.9010\n",
      "\n",
      "Epoch 9/10\n",
      "2631/2631 [==============================] - 37s 14ms/step - loss: 12.1969 - acc: 0.9624 - val_loss: 10.7096 - val_acc: 0.9049\n",
      "\n",
      "Epoch 10/10\n",
      "2631/2631 [==============================] - 37s 14ms/step - loss: 12.1799 - acc: 0.9705 - val_loss: 10.6935 - val_acc: 0.9069\n",
      "\n",
      "0.913911742708\n",
      "             precision    recall  f1-score   support\n",
      "\n",
      "          D       0.73      0.65      0.69       976\n",
      "          O       0.95      0.96      0.96     11713\n",
      "          T       0.51      0.46      0.48       681\n",
      "\n",
      "avg / total       0.91      0.91      0.91     13370\n",
      "\n"
     ]
    }
   ],
   "source": [
    "import pandas as pd\n",
    "import numpy as np\n",
    "from keras.preprocessing.sequence import pad_sequences\n",
    "from keras.utils import to_categorical\n",
    "from sklearn.model_selection import train_test_split\n",
    "from keras.models import Model, Input\n",
    "from keras.layers import LSTM, Embedding, Dense, TimeDistributed, Bidirectional\n",
    "from crf import CRF\n",
    "from sklearn.metrics import accuracy_score\n",
    "from sklearn.metrics import classification_report\n",
    "from keras.callbacks import LambdaCallback\n",
    "\n",
    "# i=0\n",
    "# lis=[]\n",
    "# with open(\"ner.txt\",\"r+\") as file:\n",
    "#     for line in file:\n",
    "#         if line.startswith('\\n'):\n",
    "#             i+=1\n",
    "#             continue\n",
    "#         line1='sent'+str(i) + ' '+line\n",
    "#         lis.append(line1)\n",
    "# with open(\"out.txt\", \"w\") as f1:\n",
    "#     f1.writelines(lis)\n",
    "\n",
    "\n",
    "\n",
    "class SentenceGetter(object):\n",
    "\n",
    "    def __init__(self, data):\n",
    "        self.n_sent = 0\n",
    "        self.data = data\n",
    "        self.empty = False\n",
    "        agg_func = lambda s: [(w, t) for w, t in zip(s[\"Word\"].values.tolist(),\n",
    "                                                     s[\"Tag\"].values.tolist())]\n",
    "        self.grouped = self.data.groupby(\"Sentence #\").apply(agg_func)\n",
    "        self.sentences = [s for s in self.grouped]\n",
    "        # print(self.sentences)\n",
    "\n",
    "    def get_next(self):\n",
    "        try:\n",
    "            s = self.grouped[\"Sentence: {}\".format(self.n_sent)]\n",
    "            self.n_sent += 1\n",
    "            return s\n",
    "        except:\n",
    "            return None\n",
    "\n",
    "\n",
    "def on_epoch_end(epoch, logs):\n",
    "    # Function invoked at end of each epoch. Saves model after each epoch\n",
    "    print()\n",
    "\n",
    "\n",
    "\n",
    "data = pd.read_csv(\"out.txt\",sep=\" \",encoding=\"latin1\",names=[\"Sentence #\",\"Word\", \"Tag\"])\n",
    "words = list(set(data[\"Word\"].values))\n",
    "words.append(\"ENDPAD\")\n",
    "n_words = len(words)\n",
    "tags = list(set(data[\"Tag\"].values))\n",
    "n_tags = len(tags)\n",
    "\n",
    "getter = SentenceGetter(data)\n",
    "sentences = getter.sentences\n",
    "max_len = 100\n",
    "word2idx = {w: i + 1 for i, w in enumerate(words)}\n",
    "tag2idx = {t: i for i, t in enumerate(tags)}\n",
    "X = [[word2idx[w[0]] for w in s] for s in sentences]\n",
    "X = pad_sequences(maxlen=max_len, sequences=X, padding=\"post\", value=0)\n",
    "y = [[tag2idx[w[1]] for w in s] for s in sentences]\n",
    "y = pad_sequences(maxlen=max_len, sequences=y, padding=\"post\", value=tag2idx[\"O\"])\n",
    "y = [to_categorical(i, num_classes=n_tags) for i in y]\n",
    "X_tr, X_te, y_tr, y_te = train_test_split(X, y, test_size=0.2)\n",
    "input = Input(shape=(max_len,))\n",
    "model = Embedding(input_dim=n_words + 1, output_dim=20,\n",
    "                  input_length=max_len, mask_zero=True)(input)  # 20-dim embedding\n",
    "model = Bidirectional(LSTM(units=50, return_sequences=True,\n",
    "                           recurrent_dropout=0.1))(model)  # variational biLSTM\n",
    "model = TimeDistributed(Dense(50, activation=\"relu\"))(model)  # a dense layer as suggested by neuralNer\n",
    "crf = CRF(n_tags)  # CRF layer\n",
    "out = crf(model)  # output\n",
    "model = Model(input, out)\n",
    "model.compile(optimizer=\"rmsprop\", loss=crf.loss_function, metrics=[crf.accuracy])\n",
    "model.summary()\n",
    "print_callback = LambdaCallback(on_epoch_end=on_epoch_end)\n",
    "history = model.fit(X_tr, np.array(y_tr), batch_size=64, epochs=10,\n",
    "                    validation_split=0.1, verbose=1, callbacks=[print_callback])\n",
    "misclassification=0\n",
    "total=0\n",
    "actual=[]\n",
    "predicted=[]\n",
    "\n",
    "for i in range(X_te.shape[0]):\n",
    "    p = model.predict(np.array([X_te[i]]))\n",
    "    p = np.argmax(p, axis=-1)\n",
    "    true = np.argmax(y_te[i], -1)\n",
    "    # print(\"{:15}   {:5}    {}\".format(\"Word\", \"Actual\", \"Predicted\"))\n",
    "    # print(30 * \"=\")\n",
    "    for w, t, pred in zip(X_te[i], true, p[0]):\n",
    "        total+=1\n",
    "        if w != 0:\n",
    "            # print(\"{:15}: {:5} {}\".format(words[w-1], tags[t], tags[pred]))\n",
    "            actual.append(tags[t])\n",
    "            predicted.append(tags[pred])\n",
    "            if tags[t]!=tags[pred]:\n",
    "                misclassification+=1\n",
    "print(accuracy_score(actual, predicted))\n",
    "print(classification_report(y_true=actual,y_pred=predicted))"
   ]
  },
  {
   "cell_type": "code",
   "execution_count": 2,
   "metadata": {},
   "outputs": [
    {
     "name": "stdout",
     "output_type": "stream",
     "text": [
      "dict_keys(['val_loss', 'val_acc', 'loss', 'acc'])\n"
     ]
    }
   ],
   "source": [
    "import matplotlib.pyplot as plt\n",
    "print(history.history.keys())"
   ]
  },
  {
   "cell_type": "code",
   "execution_count": 3,
   "metadata": {},
   "outputs": [
    {
     "data": {
      "image/png": "[encoded data removed]",
      "text/plain": [
       "<matplotlib.figure.Figure at 0x7f14abcc3198>"
      ]
     },
     "metadata": {},
     "output_type": "display_data"
    }
   ],
   "source": [
    "plt.plot(history.history['acc'])\n",
    "plt.plot(history.history['val_acc'])\n",
    "plt.title('model accuracy')\n",
    "plt.ylabel('accuracy')\n",
    "plt.xlabel('epoch')\n",
    "plt.legend(['train', 'test'], loc='upper left')\n",
    "plt.show()"
   ]
  },
  {
   "cell_type": "code",
   "execution_count": 4,
   "metadata": {},
   "outputs": [
    {
     "data": {
      "image/png": "[encoded data removed]",
      "text/plain": [
       "<matplotlib.figure.Figure at 0x7f14abcf8b70>"
      ]
     },
     "metadata": {},
     "output_type": "display_data"
    }
   ],
   "source": [
    "plt.plot(history.history['loss'])\n",
    "plt.plot(history.history['val_loss'])\n",
    "plt.title('model loss')\n",
    "plt.ylabel('loss')\n",
    "plt.xlabel('epoch')\n",
    "plt.legend(['train', 'test'], loc='upper left')\n",
    "plt.show()"
   ]
  },
  {
   "cell_type": "code",
   "execution_count": 5,
   "metadata": {},
   "outputs": [
    {
     "name": "stdout",
     "output_type": "stream",
     "text": [
      "             precision    recall  f1-score   support\n",
      "\n",
      "          D       0.73      0.65      0.69       976\n",
      "          O       0.95      0.96      0.96     11713\n",
      "          T       0.51      0.46      0.48       681\n",
      "\n",
      "avg / total       0.91      0.91      0.91     13370\n",
      "\n"
     ]
    }
   ],
   "source": [
    "print(classification_report(y_true=actual,y_pred=predicted))\n"
   ]
  },
  {
   "cell_type": "code",
   "execution_count": 11,
   "metadata": {
    "collapsed": true
   },
   "outputs": [],
   "source": [
    "from sklearn.metrics import confusion_matrix\n",
    "import itertools\n",
    "import numpy as np"
   ]
  },
  {
   "cell_type": "code",
   "execution_count": 12,
   "metadata": {
    "collapsed": true
   },
   "outputs": [],
   "source": [
    "def plot_confusion_matrix(cm, classes,\n",
    "                          normalize=False,\n",
    "                          title='Confusion matrix',\n",
    "                          cmap=plt.cm.Blues):\n",
    "    \"\"\"\n",
    "    This function prints and plots the confusion matrix.\n",
    "    Normalization can be applied by setting `normalize=True`.\n",
    "    \"\"\"\n",
    "    if normalize:\n",
    "        cm = cm.astype('float') / cm.sum(axis=1)[:, np.newaxis]\n",
    "        print(\"Normalized confusion matrix\")\n",
    "    else:\n",
    "        print('Confusion matrix, without normalization')\n",
    "\n",
    "    print(cm)\n",
    "\n",
    "    plt.imshow(cm, interpolation='nearest', cmap=cmap)\n",
    "    plt.title(title)\n",
    "    plt.colorbar()\n",
    "    tick_marks = np.arange(len(classes))\n",
    "    plt.xticks(tick_marks, classes, rotation=45)\n",
    "    plt.yticks(tick_marks, classes)\n",
    "\n",
    "    fmt = '.2f' if normalize else 'd'\n",
    "    thresh = cm.max() / 2.\n",
    "    for i, j in itertools.product(range(cm.shape[0]), range(cm.shape[1])):\n",
    "        plt.text(j, i, format(cm[i, j], fmt),\n",
    "                 horizontalalignment=\"center\",\n",
    "                 color=\"white\" if cm[i, j] > thresh else \"black\")\n",
    "\n",
    "    plt.tight_layout()\n",
    "    plt.ylabel('True label')\n",
    "    plt.xlabel('Predicted label')"
   ]
  },
  {
   "cell_type": "code",
   "execution_count": 15,
   "metadata": {},
   "outputs": [
    {
     "name": "stdout",
     "output_type": "stream",
     "text": [
      "Confusion matrix, without normalization\n",
      "[[  637   282    57]\n",
      " [  199 11269   245]\n",
      " [   33   335   313]]\n"
     ]
    },
    {
     "data": {
      "image/png": "[encoded data removed]",
      "text/plain": [
       "<matplotlib.figure.Figure at 0x7f14aafa90b8>"
      ]
     },
     "metadata": {},
     "output_type": "display_data"
    }
   ],
   "source": [
    "cnf_matrix = confusion_matrix(actual, predicted)\n",
    "plot_confusion_matrix(cnf_matrix, classes=tags,\n",
    "                      title='Confusion matrix')\n",
    "# plt.figure()\n",
    "plt.show()"
   ]
  },
  {
   "cell_type": "code",
   "execution_count": null,
   "metadata": {
    "collapsed": true
   },
   "outputs": [],
   "source": []
  }
 ],
 "metadata": {
  "kernelspec": {
   "display_name": "Python 3",
   "language": "python",
   "name": "python3"
  },
  "language_info": {
   "codemirror_mode": {
    "name": "ipython",
    "version": 3
   },
   "file_extension": ".py",
   "mimetype": "text/x-python",
   "name": "python",
   "nbconvert_exporter": "python",
   "pygments_lexer": "ipython3",
   "version": "3.6.3"
  }
 },
 "nbformat": 4,
 "nbformat_minor": 2
}
